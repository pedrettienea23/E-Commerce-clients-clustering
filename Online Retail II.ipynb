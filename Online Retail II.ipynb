{
 "cells": [
  {
   "cell_type": "code",
   "execution_count": 1,
   "id": "46be0027-ffc0-4518-8232-acc481052686",
   "metadata": {},
   "outputs": [],
   "source": [
    "import os\n",
    "import pandas as pd\n",
    "import numpy as np\n",
    "import matplotlib.pyplot as plt\n",
    "import seaborn as sns"
   ]
  },
  {
   "cell_type": "markdown",
   "id": "dce7b594-7ea5-4a0b-8d71-620d00e3345b",
   "metadata": {},
   "source": [
    "# Data Exploration"
   ]
  },
  {
   "cell_type": "code",
   "execution_count": null,
   "id": "f8969237-3559-4dab-82e4-d9000e798eb2",
   "metadata": {},
   "outputs": [],
   "source": [
    "directory = os.getcwd()\n",
    "df = pd.read_excel(directory + \"\\\\online_retail_II.xlsx\", sheet_name = 0)\n",
    "df.head()"
   ]
  },
  {
   "cell_type": "code",
   "execution_count": null,
   "id": "e0d3cd34-2b99-42c2-b28a-b454bc29b8c0",
   "metadata": {},
   "outputs": [],
   "source": [
    "df.info()"
   ]
  },
  {
   "cell_type": "markdown",
   "id": "bb2c4b1e-45b3-4ddb-8122-b6f460a98ac8",
   "metadata": {},
   "source": [
    "## Considerations:\n",
    "1. Customer ID has a significant number of missing values\n",
    "2. InvoiceDate already has the correct data type"
   ]
  },
  {
   "cell_type": "code",
   "execution_count": null,
   "id": "9f1f2b61-d197-4d5f-a836-b4737ec15c49",
   "metadata": {},
   "outputs": [],
   "source": [
    "df.describe()"
   ]
  },
  {
   "cell_type": "markdown",
   "id": "8041e1aa-3fa2-4de9-94f4-b6140f6a10c2",
   "metadata": {},
   "source": [
    "## Considerations:\n",
    "1. min(Quantity) and min(Price) are negative"
   ]
  },
  {
   "cell_type": "code",
   "execution_count": null,
   "id": "3ef82194-b602-49f2-bf00-671d3410ddb0",
   "metadata": {},
   "outputs": [],
   "source": [
    "df.describe(include = 'O')"
   ]
  },
  {
   "cell_type": "code",
   "execution_count": null,
   "id": "b2428486-95de-45f5-8835-2aec3da6f631",
   "metadata": {},
   "outputs": [],
   "source": [
    "# Investigating missing values of Customer IDs\n",
    "df[df['Customer ID'].isna()].head()"
   ]
  },
  {
   "cell_type": "markdown",
   "id": "660c56f6-6a13-4d74-9964-5f115f65a61e",
   "metadata": {},
   "source": [
    "## Considerations:\n",
    "1. It's really hard to get the actual Customer ID if it's missing (even if the transaction seems legit), so this data will be excluded from the analysis"
   ]
  },
  {
   "cell_type": "code",
   "execution_count": null,
   "id": "0a03385b-82a5-43b5-a433-e52e99d547ed",
   "metadata": {},
   "outputs": [],
   "source": [
    "# Investigating negative quantities\n",
    "df[df['Quantity'] < 0].head()"
   ]
  },
  {
   "cell_type": "markdown",
   "id": "fa0b8e54-0813-4274-9df1-1d0de065c7f3",
   "metadata": {},
   "source": [
    "From the variables description in the dataset, it's clear that the letter 'C' at the beginning of the invoice indicates a cancellation"
   ]
  },
  {
   "cell_type": "code",
   "execution_count": null,
   "id": "9d67a27f-47be-42bf-88e5-dc89143acf84",
   "metadata": {},
   "outputs": [],
   "source": [
    "# Investigating invoice types\n",
    "df['Invoice'] = df['Invoice'].astype('str')\n",
    "df[df['Invoice'].str.match('^\\\\d{6}$') == False] # Regex: matching exactly 6 digits"
   ]
  },
  {
   "cell_type": "code",
   "execution_count": null,
   "id": "3b10c468-3086-4125-a135-59d55f7b0956",
   "metadata": {},
   "outputs": [],
   "source": [
    "# Are there any other letter than the 'C'?\n",
    "df['Invoice'].replace('[0-9]', '', regex = True).unique() # Regex: replacing all digits with an empty string"
   ]
  },
  {
   "cell_type": "code",
   "execution_count": null,
   "id": "a90537b4-4a76-49ac-9893-8a52dd3683ca",
   "metadata": {},
   "outputs": [],
   "source": [
    "# Investigating the 'A'\n",
    "df[df['Invoice'].str.startswith('A')]"
   ]
  },
  {
   "cell_type": "markdown",
   "id": "2976b7a6-df3b-4dbf-b80e-a21c6050ec2b",
   "metadata": {},
   "source": [
    "These transactions seem to be accounting operations and they are very few, so they'll be removed"
   ]
  },
  {
   "cell_type": "markdown",
   "id": "ac755d42-570d-46bf-a3c7-3b87dd9ce5da",
   "metadata": {},
   "source": [
    "Moving to the 'StockCode', from the variables description in the dataset it should a 5 digits code. Let's be sure about that"
   ]
  },
  {
   "cell_type": "code",
   "execution_count": null,
   "id": "0d121258-683d-40e0-b779-cef90564fdbd",
   "metadata": {},
   "outputs": [],
   "source": [
    "df['StockCode'] = df['StockCode'].astype('str')\n",
    "df[df['StockCode'].str.match('^\\\\d{5}$') == False]"
   ]
  },
  {
   "cell_type": "markdown",
   "id": "b9e08dc6-26dc-4fd2-a304-8d8a76b105d1",
   "metadata": {},
   "source": [
    "There appear to be letters after 5 digits. These transactions appear to be legit, but I am investigating into these letters since they're not mentioned in the dataset description"
   ]
  },
  {
   "cell_type": "code",
   "execution_count": null,
   "id": "64f14479-e531-4b26-a146-9e296db91625",
   "metadata": {},
   "outputs": [],
   "source": [
    "# Regex: 5 digits followed by letters eventually repeated\n",
    "unique_codes = df[(df['StockCode'].str.match('^\\\\d{5}$') == False) & (df['StockCode'].str.match('^\\\\d{5}[a-zA-Z]+$') == False)]['StockCode'].unique()\n",
    "for code in unique_codes:\n",
    "    filtered_df = df[df['StockCode'].str.contains(f'^{code}')]\n",
    "    print(f\"StockCode '{code}':\")\n",
    "    print(filtered_df.head())\n",
    "    print(\"\\n\")"
   ]
  },
  {
   "cell_type": "markdown",
   "id": "29c5eb9f-c0f2-4b25-b4ff-80d46f507e0e",
   "metadata": {},
   "source": [
    "## Summary:\n",
    "| Stock Code          | Description                                                            | Action                  |\n",
    "|---------------------|------------------------------------------------------------------------|-------------------------|\n",
    "| DCGS               | Looks valid, some quantities are negative though and customer ID is null | Exclude |\n",
    "| D                  | Looks valid, represents discount values                                | Exclude  |\n",
    "| DOT                | Looks valid, represents postage charges                                | Exclude  |\n",
    "| M or m             | Looks valid, represents manual transactions                            | Exclude  |\n",
    "| C2                 | Carriage transaction - not sure what this means                        | Exclude  |\n",
    "| C3                 | Not sure, only 1 transaction                                           | Exclude                 |\n",
    "| BANK CHARGES or B  | Bank charges                                                           | Exclude  |\n",
    "| S                  | Samples sent to customer                                               | Exclude  |\n",
    "| TESTXXX            | Testing data, not valid                                                | Exclude  |\n",
    "| gift__XXX          | Purchases with gift cards, might be interesting for another analysis, but no customer data | Exclude |\n",
    "| PADS               | Looks like a legit stock code for padding                              | Include                 |\n",
    "| SP1002             | Looks like a special request item, only 2 transactions, 3 look legit, 1 has 0 pricing | Exclude |\n",
    "| AMAZONFEE          | Looks like fees for Amazon shipping or something                       | Exclude  |\n",
    "| ADJUSTX            | Looks like manual account adjustments by admins                        | Exclude  |"
   ]
  },
  {
   "cell_type": "markdown",
   "id": "995fb025-1e25-4672-92dd-e3699d777812",
   "metadata": {},
   "source": [
    "# Data Cleaning"
   ]
  },
  {
   "cell_type": "code",
   "execution_count": null,
   "id": "7fef3610-0eb2-4a62-9394-3d381a8fa55f",
   "metadata": {},
   "outputs": [],
   "source": [
    "clean_df = df.copy()"
   ]
  },
  {
   "cell_type": "code",
   "execution_count": null,
   "id": "fff9877b-26f7-49af-8ec6-5251f7e75235",
   "metadata": {},
   "outputs": [],
   "source": [
    "clean_df['Invoice'] = clean_df['Invoice'].astype('str')\n",
    "mask = (\n",
    "    clean_df['Invoice'].str.match('^\\\\d{6}$') == True\n",
    ")\n",
    "clean_df = clean_df[mask]\n",
    "clean_df"
   ]
  },
  {
   "cell_type": "code",
   "execution_count": null,
   "id": "93d19ae4-f24b-4e55-b2d2-7ad1602be378",
   "metadata": {},
   "outputs": [],
   "source": [
    "clean_df[\"StockCode\"] = clean_df[\"StockCode\"].astype(\"str\")\n",
    "'''\n",
    "I want StockCodes with 5 digits, or 5 digits followed by letters, or 'PADS' StockCodes as declared previously\n",
    "'''\n",
    "mask = (\n",
    "    (clean_df[\"StockCode\"].str.match(\"^\\\\d{5}$\") == True)\n",
    "    | (clean_df[\"StockCode\"].str.match(\"^\\\\d{5}[a-zA-Z]+$\") == True)\n",
    "    | (clean_df[\"StockCode\"].str.match(\"^PADS$\") == True)\n",
    ")\n",
    "clean_df = clean_df[mask]\n",
    "clean_df"
   ]
  },
  {
   "cell_type": "code",
   "execution_count": null,
   "id": "5aa324a6-3318-4772-a938-ce2e40803d83",
   "metadata": {},
   "outputs": [],
   "source": [
    "clean_df.dropna(subset = ['Customer ID'], inplace=True)"
   ]
  },
  {
   "cell_type": "code",
   "execution_count": null,
   "id": "9c618cb8-c042-4f9a-945c-dc08f131f1fc",
   "metadata": {},
   "outputs": [],
   "source": [
    "clean_df.describe()"
   ]
  },
  {
   "cell_type": "markdown",
   "id": "7a649da4-6b27-4fbd-9642-6dc7759421dd",
   "metadata": {},
   "source": [
    "## Considerations:\n",
    "The negative prices have been fixed as well as negative quantity. There are prices = 0"
   ]
  },
  {
   "cell_type": "code",
   "execution_count": null,
   "id": "1f75f447-5393-4506-aa35-677b23115dd1",
   "metadata": {},
   "outputs": [],
   "source": [
    "clean_df[clean_df['Price'] == 0]"
   ]
  },
  {
   "cell_type": "markdown",
   "id": "7816f328-9d73-4545-8316-c595cd049eb3",
   "metadata": {},
   "source": [
    "0 prices items should not be included in my analysis since they're probably gifts or something like that"
   ]
  },
  {
   "cell_type": "code",
   "execution_count": null,
   "id": "e6e503d7-9be5-478e-a0a6-b0e863a2be91",
   "metadata": {},
   "outputs": [],
   "source": [
    "clean_df = clean_df[clean_df['Price'] > 0]\n",
    "clean_df.describe()"
   ]
  },
  {
   "cell_type": "markdown",
   "id": "a1f58698-8d3a-45ae-817b-bda2160d792e",
   "metadata": {},
   "source": [
    "There is a really small price, but I think it is okay"
   ]
  },
  {
   "cell_type": "markdown",
   "id": "a380dacb-37ee-4d2f-a43a-3ff17a5b6abe",
   "metadata": {},
   "source": [
    "## Data Cleaning summary\n",
    "How much data we still have after the Data Cleaning step?"
   ]
  },
  {
   "cell_type": "code",
   "execution_count": null,
   "id": "35b3ae8b-1de6-49cb-bf58-2babfbc50fa3",
   "metadata": {},
   "outputs": [],
   "source": [
    "print(str((len(clean_df) / len(df)) * 100) + '%')"
   ]
  },
  {
   "cell_type": "markdown",
   "id": "e5a0e9bf-9c03-4a36-98b8-ee974aa9a4c1",
   "metadata": {},
   "source": [
    "# Feature Engineering"
   ]
  },
  {
   "cell_type": "code",
   "execution_count": null,
   "id": "91406f01-94fd-4225-98e8-e8793e26dc8d",
   "metadata": {},
   "outputs": [],
   "source": [
    "clean_df = clean_df.copy()\n",
    "clean_df[ 'SalesTotal'] = clean_df['Quantity'] * clean_df['Price']\n",
    "clean_df.head()"
   ]
  },
  {
   "cell_type": "code",
   "execution_count": null,
   "id": "51a2458d-adf3-49cf-bd75-c155c480b3b9",
   "metadata": {},
   "outputs": [],
   "source": [
    "agg_df = clean_df.groupby('Customer ID', as_index = False).agg(\n",
    "    Total = ('SalesTotal', 'sum'),\n",
    "    Frequency = ('Invoice', 'nunique'),\n",
    "    LastInvoiceDate = ('InvoiceDate', 'max')\n",
    ")\n",
    "agg_df.head()"
   ]
  },
  {
   "cell_type": "code",
   "execution_count": null,
   "id": "1215b05b-df02-48d0-8429-ccd23bd0d421",
   "metadata": {},
   "outputs": [],
   "source": [
    "max_invoice_date = agg_df['LastInvoiceDate'].max()\n",
    "agg_df['Recency'] = (max_invoice_date - agg_df['LastInvoiceDate']).dt.days\n",
    "agg_df.head()"
   ]
  },
  {
   "cell_type": "code",
   "execution_count": null,
   "id": "bbf8309d-3623-42fa-892e-dce6f36ecc06",
   "metadata": {},
   "outputs": [],
   "source": [
    "# Are there any outliers? They may affect the clustering\n",
    "plt.figure(figsize=(15, 5))\n",
    "\n",
    "plt.subplot(1, 3, 1)\n",
    "plt.hist(agg_df['Total'], bins=100, color='skyblue', edgecolor='black')\n",
    "plt.title('Total Distribution')\n",
    "plt.xlabel('Total')\n",
    "plt.ylabel('Count')\n",
    "\n",
    "plt.subplot(1, 3, 2)\n",
    "plt.hist(agg_df['Frequency'], bins=100, color='lightgreen', edgecolor='black')\n",
    "plt.title('Frequency Distribution')\n",
    "plt.xlabel('Frequency')\n",
    "plt.ylabel('Count')\n",
    "\n",
    "plt.subplot(1, 3, 3)\n",
    "plt.hist(agg_df['Recency'], bins=20, color='salmon', edgecolor='black')\n",
    "plt.title('Recency Distribution')\n",
    "plt.xlabel('Recency')\n",
    "plt.ylabel('Count')\n",
    "\n",
    "plt.tight_layout()\n",
    "plt.show()"
   ]
  },
  {
   "cell_type": "code",
   "execution_count": null,
   "id": "3f99837b-4913-4227-abd9-c02c0447e0f4",
   "metadata": {},
   "outputs": [],
   "source": [
    "plt.figure(figsize=(15, 5))\n",
    "\n",
    "plt.subplot(1, 3, 1)\n",
    "sns.boxplot(data = agg_df['Total'], color='skyblue')\n",
    "plt.title('Total Boxplot')\n",
    "plt.xlabel('Total')\n",
    "\n",
    "plt.subplot(1, 3, 2)\n",
    "sns.boxplot(data = agg_df['Frequency'], color='lightgreen')\n",
    "plt.title('Frequency Boxplot')\n",
    "plt.xlabel('Frequency')\n",
    "\n",
    "plt.subplot(1, 3, 3)\n",
    "sns.boxplot(data = agg_df['Recency'], color='salmon')\n",
    "plt.title('Recency Boxplot')\n",
    "plt.xlabel('Recency')\n",
    "\n",
    "plt.tight_layout()\n",
    "plt.show()"
   ]
  },
  {
   "cell_type": "markdown",
   "id": "5b4acb39-b62b-4dfb-a186-3fbe124fb6b0",
   "metadata": {},
   "source": [
    "Few outliers in 'Recency', but many in 'Total' and 'Frequency'.\n",
    "\n",
    "Since the outliers in the first two charts represent the most valuable clients, they should not be removed. I'll perform a separate analysis on them."
   ]
  },
  {
   "cell_type": "code",
   "execution_count": null,
   "id": "37fe4f02-3902-4d5f-a3fa-bfdb89e48a76",
   "metadata": {},
   "outputs": [],
   "source": [
    "T_Q1 = agg_df['Total'].quantile(0.25)\n",
    "T_Q3 = agg_df['Total'].quantile(0.75)\n",
    "T_IQR = T_Q3 - T_Q1\n",
    "\n",
    "# Quantile outlier definition\n",
    "total_outliers = agg_df[(agg_df['Total'] > (T_Q3 + 1.5 * T_IQR)) | (agg_df['Total'] < (T_Q1 - 1.5 * T_IQR))].copy()\n",
    "total_outliers.describe()"
   ]
  },
  {
   "cell_type": "code",
   "execution_count": null,
   "id": "477c2e90-00ce-463c-9084-43eb5c9203fe",
   "metadata": {},
   "outputs": [],
   "source": [
    "F_Q1 = agg_df['Frequency'].quantile(0.25)\n",
    "F_Q3 = agg_df['Frequency'].quantile(0.75)\n",
    "F_IQR = F_Q3 - F_Q1\n",
    "frequency_outliers = agg_df[(agg_df['Frequency'] > (F_Q3 + 1.5 * F_IQR)) | (agg_df['Frequency'] < (F_Q1 - 1.5 * F_IQR))].copy()\n",
    "frequency_outliers.describe()"
   ]
  },
  {
   "cell_type": "code",
   "execution_count": null,
   "id": "e8b10409-4c60-44bb-accd-e5ce08ed50ae",
   "metadata": {},
   "outputs": [],
   "source": [
    "# The Total and Frequency outliers may have values in common, so let's filter them out\n",
    "non_outliers = agg_df[(~agg_df.index.isin(total_outliers.index)) & (~agg_df.index.isin(frequency_outliers.index))]\n",
    "non_outliers.describe()"
   ]
  },
  {
   "cell_type": "code",
   "execution_count": null,
   "id": "f4b121b0-e974-4348-a7fb-277c4e2b27d2",
   "metadata": {},
   "outputs": [],
   "source": [
    "plt.figure(figsize=(15, 5))\n",
    "\n",
    "plt.subplot(1, 3, 1)\n",
    "sns.boxplot(data = non_outliers['Total'], color='skyblue')\n",
    "plt.title('Total Boxplot')\n",
    "plt.xlabel('Total')\n",
    "\n",
    "plt.subplot(1, 3, 2)\n",
    "sns.boxplot(data = non_outliers['Frequency'], color='lightgreen')\n",
    "plt.title('Frequency Boxplot')\n",
    "plt.xlabel('Frequency')\n",
    "\n",
    "plt.subplot(1, 3, 3)\n",
    "sns.boxplot(data = non_outliers['Recency'], color='salmon')\n",
    "plt.title('Recency Boxplot')\n",
    "plt.xlabel('Recency')\n",
    "\n",
    "plt.tight_layout()\n",
    "plt.show()"
   ]
  },
  {
   "cell_type": "code",
   "execution_count": null,
   "id": "d5d5ab11-cfcc-4bb5-94ec-16ba563ea467",
   "metadata": {},
   "outputs": [],
   "source": [
    "fig = plt.figure(figsize=(6, 6))\n",
    "\n",
    "ax = fig.add_subplot(projection = '3d')\n",
    "scatter = ax.scatter(non_outliers['Total'], non_outliers['Frequency'], non_outliers['Recency'])\n",
    "\n",
    "ax.set_xlabel('Total')\n",
    "ax.set_ylabel('Frequency')\n",
    "ax.set_zlabel('Recency')\n",
    "\n",
    "ax.set_title('3D scatter plot of customer data')\n",
    "plt.tight_layout()\n",
    "plt.show()"
   ]
  },
  {
   "cell_type": "markdown",
   "id": "042905c1-86fa-4115-97de-7f648eda4213",
   "metadata": {},
   "source": [
    "It is clear the difference of scales. Indeed, 'Total' may have a bigger weight during clustering.\n",
    "\n",
    "Standard scaling transforms the features of your data to have a mean of 0 and a standard deviation of 1, ensuring that each feature contributes equally to the analysis (assuming a normal distribution).\n",
    "\n",
    "\n",
    "$$z = \\frac{x - \\mu}{\\sigma}$$\n",
    "\n",
    "\n",
    "Where:\n",
    "\n",
    "- $ z $ is the standardized value,\n",
    "- $ x $ is the original value,\n",
    "- $ \\mu $ is the mean of the feature,\n",
    "- $ \\sigma $ is the standard deviation of the feature."
   ]
  },
  {
   "cell_type": "code",
   "execution_count": null,
   "id": "9318f348-2b79-4648-8ec8-e64d17f9d68a",
   "metadata": {},
   "outputs": [],
   "source": [
    "from sklearn.preprocessing import StandardScaler\n",
    "\n",
    "scaler = StandardScaler()\n",
    "scaled_data = scaler.fit_transform(non_outliers[['Total', 'Frequency', 'Recency']])\n",
    "scaled_data_df = pd.DataFrame(scaled_data, index = non_outliers.index, columns=(\"Total\", \"Frequency\", \"Recency\"))\n",
    "scaled_data_df"
   ]
  },
  {
   "cell_type": "code",
   "execution_count": null,
   "id": "68b21d3b-7df7-44ff-8082-195adeccf8eb",
   "metadata": {},
   "outputs": [],
   "source": [
    "fig = plt.figure(figsize=(6, 6))\n",
    "\n",
    "ax = fig.add_subplot(projection = '3d')\n",
    "scatter = ax.scatter(scaled_data_df['Total'], scaled_data_df['Frequency'], scaled_data_df['Recency'])\n",
    "\n",
    "ax.set_xlabel('Total')\n",
    "ax.set_ylabel('Frequency')\n",
    "ax.set_zlabel('Recency')\n",
    "\n",
    "ax.set_title('3D scatter plot of customer data (scaled)')\n",
    "plt.tight_layout()\n",
    "plt.show()"
   ]
  },
  {
   "cell_type": "markdown",
   "id": "eddfd752-ae60-474a-ae78-fe2809b02d56",
   "metadata": {},
   "source": [
    "# KMeans Clustering"
   ]
  },
  {
   "cell_type": "markdown",
   "id": "10a7e469-956e-4122-b156-3218bde28388",
   "metadata": {},
   "source": [
    "### Silhouette Score\n",
    "\n",
    "$s(i) = \\frac{b(i) - a(i)}{\\max(a(i), b(i))}$\n",
    "\n",
    "Where:\n",
    "- $s(i)$ is the silhouette score for a single sample $i$,\n",
    "- $a(i)$ is the average distance between $i$ and all other points in the same cluster,\n",
    "- $b(i)$ is the minimum average distance between $i$ and all points in the nearest cluster to which $i$ does not belong.\n",
    "\n",
    "The silhouette score ranges between $[-1, 1]$, where a higher value indicates more distinct clusters."
   ]
  },
  {
   "cell_type": "code",
   "execution_count": null,
   "id": "264ba2cb-c56a-4296-8afa-584a896a8e20",
   "metadata": {},
   "outputs": [],
   "source": [
    "from sklearn.cluster import KMeans\n",
    "from sklearn.metrics import silhouette_score\n",
    "\n",
    "# Set the number of cores explicitly to avoid a warning\n",
    "os.environ[\"LOKY_MAX_CPU_COUNT\"] = \"4\"\n",
    "\n",
    "max_k = 20\n",
    "inertia = []\n",
    "silhouette_scores = []\n",
    "k_values = range(2, max_k + 1)\n",
    "\n",
    "for k in k_values:\n",
    "    kmeans = KMeans(n_clusters = k, random_state = 0, max_iter = 1000)\n",
    "    cluster_labels = kmeans.fit_predict(scaled_data_df)\n",
    "    \n",
    "    # Calculate silhouette score\n",
    "    sil_score = silhouette_score(scaled_data_df, cluster_labels)\n",
    "    silhouette_scores.append(sil_score)\n",
    "    inertia.append(kmeans.inertia_)\n",
    "\n",
    "plt.figure(figsize=(15, 5))\n",
    "\n",
    "# Inertia plot\n",
    "plt.subplot(1, 2, 1)\n",
    "plt.plot(k_values, inertia, marker = 'o')\n",
    "plt.title('KMeans Inertia for Different Values of k')\n",
    "plt.xlabel('Number of Clusters (k)')\n",
    "plt.ylabel('Inertia')\n",
    "plt.xticks(k_values)\n",
    "plt.grid(True)\n",
    "\n",
    "# Silhouette score plot\n",
    "plt.subplot(1, 2, 2)\n",
    "plt.plot(k_values, silhouette_scores, marker = 'o', color = 'orange')\n",
    "plt.title('Silhouette Scores for Different Values of k')\n",
    "plt.xlabel('Number of Clusters (k)')\n",
    "plt.ylabel('Silhouette Score')\n",
    "plt.xticks(k_values)\n",
    "plt.grid(True)\n",
    "\n",
    "plt.tight_layout()\n",
    "plt.show()"
   ]
  },
  {
   "cell_type": "markdown",
   "id": "e74db2a5-eeb9-4cf7-aab1-60975c6f70d0",
   "metadata": {},
   "source": [
    "To apply the Helbow Method, we need to locate the Helbow of the Inertia function. The Silhouette Score tells us that the higher value is scored at k = 3. Therefore, at this value the clusters will be less overlapped. Also, it shown that further k values don't make the Inertia Score any higher"
   ]
  },
  {
   "cell_type": "code",
   "execution_count": null,
   "id": "db1a19b4-2625-46ac-80cb-5ca54ad36780",
   "metadata": {},
   "outputs": [],
   "source": [
    "kmeans = KMeans(n_clusters = 3, random_state = 0, max_iter = 1000)\n",
    "cluster_labels = kmeans.fit_predict(scaled_data_df)\n",
    "cluster_labels"
   ]
  },
  {
   "cell_type": "code",
   "execution_count": null,
   "id": "3968be8c-018a-4a0c-b53b-31be92a4da21",
   "metadata": {},
   "outputs": [],
   "source": [
    "non_outliers = non_outliers.copy()\n",
    "non_outliers['Cluster'] = cluster_labels\n",
    "non_outliers"
   ]
  },
  {
   "cell_type": "code",
   "execution_count": null,
   "id": "2b199a4b-9b69-4075-bb6f-985f8db30b77",
   "metadata": {},
   "outputs": [],
   "source": [
    "cluster_colors = {0: '#1f77b4',  # Blue\n",
    "                  1: '#ff7f0e',  # Orange\n",
    "                  2: '#2ca02c',  # Green\n",
    "                 }\n",
    "colors = non_outliers['Cluster'].map(cluster_colors)\n",
    "\n",
    "fig = plt.figure(figsize = (10, 10))\n",
    "ax = fig.add_subplot(projection = '3d')\n",
    "\n",
    "scatter = ax.scatter(non_outliers['Total'], \n",
    "                     non_outliers['Frequency'], \n",
    "                     non_outliers['Recency'], \n",
    "                     c = colors,\n",
    "                     marker = 'o')\n",
    "\n",
    "ax.set_xlabel('Total')\n",
    "ax.set_ylabel('Frequency')\n",
    "ax.set_zlabel('Recency')\n",
    "\n",
    "ax.set_title('3D Scatter Plot of Customer Data by Cluster')\n",
    "\n",
    "plt.show()"
   ]
  },
  {
   "cell_type": "code",
   "execution_count": null,
   "id": "ec92ba4e-dd6c-4075-a5ab-78f5bef27ac9",
   "metadata": {},
   "outputs": [],
   "source": [
    "plt.figure(figsize = (12, 18))\n",
    "\n",
    "plt.subplot(3, 1, 1)\n",
    "sns.violinplot(x = non_outliers['Cluster'], y = non_outliers['Total'], palette = cluster_colors, hue = non_outliers[\"Cluster\"])\n",
    "sns.violinplot(y = non_outliers['Total'], color = 'gray', linewidth = 1.0) # Violin plot of all unclustered data\n",
    "plt.title('Total by Cluster')\n",
    "plt.ylabel('Total')\n",
    "\n",
    "plt.subplot(3, 1, 2)\n",
    "sns.violinplot(x = non_outliers['Cluster'], y = non_outliers['Frequency'], palette = cluster_colors, hue = non_outliers[\"Cluster\"])\n",
    "sns.violinplot(y = non_outliers['Frequency'], color =  'gray', linewidth = 1.0)\n",
    "plt.title('Frequency by Cluster')\n",
    "plt.ylabel('Frequency')\n",
    "\n",
    "\n",
    "plt.subplot(3, 1, 3)\n",
    "sns.violinplot(x = non_outliers['Cluster'], y = non_outliers['Recency'], palette = cluster_colors, hue = non_outliers[\"Cluster\"])\n",
    "sns.violinplot(y = non_outliers['Recency'], color = 'gray', linewidth = 1.0)\n",
    "plt.title('Recency by Cluster')\n",
    "plt.ylabel('Recency')\n",
    "\n",
    "plt.tight_layout()\n",
    "plt.show()"
   ]
  },
  {
   "cell_type": "markdown",
   "id": "ef907a24-040f-4a3e-a19f-0ba96e3442b3",
   "metadata": {},
   "source": [
    "## Cluster Identification and Actions\n",
    "\n",
    "### **Cluster 0 (Blue): \"New Shoppers\"**\n",
    "- **Rationale**:  \n",
    "  This cluster represents customers who purchase not very frequently, but very recently. They may be new customers who are exploring the products or services.  \n",
    "- **Action**:  \n",
    "  - Provide excellent customer service to make a positive first impression.  \n",
    "  - Offer incentives such as discounts or promotions to encourage frequent purchases and build loyalty.\n",
    "\n",
    "---\n",
    "\n",
    "### **Cluster 1 (Orange): \"Re-engage\"**\n",
    "- **Rationale**:  \n",
    "  This cluster represents customers who were highly active in the past (frequent and high-value purchases) but have become inactive recently. They may have lost interest or been drawn away by competitors.  \n",
    "- **Action**:  \n",
    "  - Launch targeted marketing campaigns to regain their interest.  \n",
    "  - Offer special discounts or personalized promotions to entice them back.  \n",
    "  - Send reminders, newsletters, or product updates to keep your brand top of mind.\n",
    "\n",
    "---\n",
    "\n",
    "### **Cluster 2 (Green): \"Reward\"**\n",
    "- **Rationale**:  \n",
    "  This cluster represents your loyal, average customers. Their purchasing behavior aligns closely with the population mean, indicating consistent and reliable engagement over time.  \n",
    "- **Action**:  \n",
    "  - Implement a robust loyalty program to reward their commitment.  \n",
    "  - Provide exclusive offers, early access to products, or recognition to reinforce their loyalty.  \n",
    "  - Focus on keeping them satisfied to prevent churn.\n"
   ]
  },
  {
   "cell_type": "markdown",
   "id": "d88d368d-c4f2-4b94-923c-9e5372b90518",
   "metadata": {},
   "source": [
    "## Outliers Clustering"
   ]
  },
  {
   "cell_type": "code",
   "execution_count": null,
   "id": "378f2618-2c01-4766-847b-d66092535815",
   "metadata": {},
   "outputs": [],
   "source": [
    "# Find overlapping indices between total and frequency since we already know that they may overlap\n",
    "overlap_indices = total_outliers.index.intersection(frequency_outliers.index)\n",
    "\n",
    "# Separate outliers\n",
    "total_only_outliers = total_outliers.drop(overlap_indices)\n",
    "frequency_only_outliers = frequency_outliers.drop(overlap_indices)\n",
    "total_and_frequency_outliers = total_outliers.loc[overlap_indices]\n",
    "\n",
    "# Manually assign cluster labels\n",
    "total_only_outliers['Cluster'] = -1 # Negative label to indicate that this has been done manually\n",
    "frequency_only_outliers['Cluster'] = -2\n",
    "total_and_frequency_outliers['Cluster'] = -3\n",
    "\n",
    "outlier_clusters_df = pd.concat([total_only_outliers, frequency_only_outliers, total_and_frequency_outliers])\n",
    "outlier_clusters_df"
   ]
  },
  {
   "cell_type": "code",
   "execution_count": null,
   "id": "c7ea395e-5e99-4d20-9807-d538b125b9a1",
   "metadata": {},
   "outputs": [],
   "source": [
    "cluster_colors = {-1: '#9467bd',\n",
    "                  -2: '#8c564b',\n",
    "                  -3: '#e377c2'}\n",
    "\n",
    "plt.figure(figsize = (12, 18))\n",
    "\n",
    "plt.subplot(3, 1, 1)\n",
    "sns.violinplot(x = outlier_clusters_df['Cluster'], y = outlier_clusters_df['Total'], palette = cluster_colors, hue = outlier_clusters_df[\"Cluster\"])\n",
    "sns.violinplot(y = outlier_clusters_df['Total'], color = 'gray', linewidth = 1.0) # Violin plot of all unclustered data\n",
    "plt.title('Total by Cluster')\n",
    "plt.ylabel('Total')\n",
    "\n",
    "plt.subplot(3, 1, 2)\n",
    "sns.violinplot(x = outlier_clusters_df['Cluster'], y = outlier_clusters_df['Frequency'], palette = cluster_colors, hue = outlier_clusters_df[\"Cluster\"])\n",
    "sns.violinplot(y = outlier_clusters_df['Frequency'], color =  'gray', linewidth = 1.0)\n",
    "plt.title('Frequency by Cluster')\n",
    "plt.ylabel('Frequency')\n",
    "\n",
    "\n",
    "plt.subplot(3, 1, 3)\n",
    "sns.violinplot(x = outlier_clusters_df['Cluster'], y = outlier_clusters_df['Recency'], palette = cluster_colors, hue = outlier_clusters_df[\"Cluster\"])\n",
    "sns.violinplot(y = outlier_clusters_df['Recency'], color = 'gray', linewidth = 1.0)\n",
    "plt.title('Recency by Cluster')\n",
    "plt.ylabel('Recency')\n",
    "\n",
    "plt.tight_layout()\n",
    "plt.show()"
   ]
  },
  {
   "cell_type": "markdown",
   "id": "ed5731c4-544c-4d12-be40-69a93b3c2194",
   "metadata": {},
   "source": [
    "## Cluster Identification and Actions\n",
    "\n",
    "### **Cluster -1 (Monetary Outliers): \"Engage\"**\n",
    "- **Characteristics**: High spenders but not necessarily frequent buyers. Their purchases are large but infrequent.  \n",
    "- **Potential Strategy**: Focus on maintaining their loyalty with personalized offers or luxury services that cater to their high spending capacity.  \n",
    "\n",
    "---\n",
    "\n",
    "### **Cluster -2 (Frequency Outliers): \"Upsell\"**\n",
    "- **Characteristics**: Frequent buyers who spend less per purchase. These customers are consistently engaged but might benefit from upselling opportunities.  \n",
    "- **Potential Strategy**: Implement loyalty programs or bundle deals to encourage higher spending per visit, given their frequent engagement.  \n",
    "\n",
    "---\n",
    "\n",
    "### **Cluster -3 (Monetary & Frequency Outliers): \"Big Reward\"**\n",
    "- **Characteristics**: The most valuable outliers, with extreme spending and frequent purchases. They are likely your top-tier customers who require special attention.  \n",
    "- **Potential Strategy**: Develop VIP programs or exclusive offers to maintain their loyalty and encourage continued engagement.  "
   ]
  },
  {
   "cell_type": "code",
   "execution_count": null,
   "id": "696d2c11-52b1-41e6-8fb5-8029614639ea",
   "metadata": {},
   "outputs": [],
   "source": [
    "cluster_labels = {\n",
    "    0: \"New Shoppers\",\n",
    "    1: \"Re-engage\",\n",
    "    2: \"Reward\",\n",
    "    -1: \"Engage\",\n",
    "    -2: \"Upsell\",\n",
    "    -3: \"Big Reward\"\n",
    "}\n",
    "\n",
    "full_clustering_df = pd.concat([non_outliers, outlier_clusters_df])\n",
    "full_clustering_df[\"ClusterLabel\"] = full_clustering_df[\"Cluster\"].map(cluster_labels)\n",
    "\n",
    "cluster_counts = full_clustering_df['ClusterLabel'].value_counts()\n",
    "full_clustering_df[\"Total per 100 pounds\"] = full_clustering_df[\"Total\"] / 100.00\n",
    "feature_means = full_clustering_df.groupby('ClusterLabel')[['Recency', 'Frequency', 'Total per 100 pounds']].mean()\n",
    "\n",
    "fig, ax1 = plt.subplots(figsize=(15, 10))\n",
    "\n",
    "sns.barplot(x = cluster_counts.index, y = cluster_counts.values, ax = ax1, palette = 'viridis', hue = cluster_counts.index)\n",
    "ax1.set_ylabel('Number of Customers', color = 'b')\n",
    "ax1.set_title('Cluster Distribution with Average Feature Values')\n",
    "\n",
    "ax2 = ax1.twinx()\n",
    "\n",
    "sns.lineplot(data = feature_means, ax = ax2, palette = 'Set2', marker = 'o')\n",
    "ax2.set_ylabel('Average Value', color = 'g')\n",
    "plt.show()"
   ]
  },
  {
   "cell_type": "markdown",
   "id": "b30952d4-a226-4d0f-9caa-b7dff40e1ef4",
   "metadata": {},
   "source": [
    "## Considerations:\n",
    "1. The majority of clients fall into the **\"Reward\"** category.  \n",
    "2. As expected, the **\"New Shoppers\"** are those who have made recent purchases.  \n",
    "3. The **\"Delight\"** clients are incredibly valuable, as they are the most frequent and highest-spending customers. Although their numbers are not significant, this can be advantageous, as a smaller group allows for more personalized and careful handling.  \n",
    "4. The number of **\"Re-engage\"** (old) clients is similar to that of **\"New Shoppers\"**, indicating that action is needed to retain or recapture their interest.  \n",
    "5. Since the number of **\"Upsell\"** clients is very small, investing in this group may not yield significant returns.  "
   ]
  }
 ],
 "metadata": {
  "kernelspec": {
   "display_name": "Python [conda env:base] *",
   "language": "python",
   "name": "conda-base-py"
  },
  "language_info": {
   "codemirror_mode": {
    "name": "ipython",
    "version": 3
   },
   "file_extension": ".py",
   "mimetype": "text/x-python",
   "name": "python",
   "nbconvert_exporter": "python",
   "pygments_lexer": "ipython3",
   "version": "3.12.7"
  }
 },
 "nbformat": 4,
 "nbformat_minor": 5
}
